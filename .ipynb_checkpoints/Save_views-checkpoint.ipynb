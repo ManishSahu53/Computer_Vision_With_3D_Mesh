{
 "cells": [
  {
   "cell_type": "code",
   "execution_count": 1,
   "metadata": {},
   "outputs": [
    {
     "name": "stdout",
     "output_type": "stream",
     "text": [
      "********************************************************************************\n",
      "WARNING: Imported VTK version (7.0) does not match the one used\n",
      "         to build the TVTK classes (6.3). This may cause problems.\n",
      "         Please rebuild TVTK.\n",
      "********************************************************************************\n",
      "\n"
     ]
    }
   ],
   "source": [
    "import numpy as np\n",
    "from mayavi import mlab\n",
    "import matplotlib.pyplot as plt\n",
    "from mpl_toolkits.mplot3d import Axes3D\n",
    "from matplotlib.colors import LightSource\n",
    "\n",
    "## Test data: Matlab `peaks()`\n",
    "x, y = np.mgrid[-3:3:150j,-3:3:150j]\n",
    "z =  3*(1 - x)**2 * np.exp(-x**2 - (y + 1)**2) \\\n",
    "   - 10*(x/5 - x**3 - y**5)*np.exp(-x**2 - y**2) \\\n",
    "   - 1./3*np.exp(-(x + 1)**2 - y**2) \n",
    "\n",
    "## Mayavi\n",
    "surf = mlab.surf(x, y, z, colormap='RdYlBu', warp_scale='auto')\n",
    "# Change the visualization parameters.\n",
    "surf.actor.property.interpolation = 'phong'\n",
    "surf.actor.property.specular = 0.1\n",
    "surf.actor.property.specular_power = 5"
   ]
  },
  {
   "cell_type": "code",
   "execution_count": 2,
   "metadata": {
    "collapsed": true
   },
   "outputs": [],
   "source": [
    "mlab.show()"
   ]
  },
  {
   "cell_type": "code",
   "execution_count": null,
   "metadata": {
    "collapsed": true
   },
   "outputs": [],
   "source": []
  }
 ],
 "metadata": {
  "kernelspec": {
   "display_name": "Python 3",
   "language": "python",
   "name": "python3"
  },
  "language_info": {
   "codemirror_mode": {
    "name": "ipython",
    "version": 3
   },
   "file_extension": ".py",
   "mimetype": "text/x-python",
   "name": "python",
   "nbconvert_exporter": "python",
   "pygments_lexer": "ipython3",
   "version": "3.5.3"
  }
 },
 "nbformat": 4,
 "nbformat_minor": 1
}
