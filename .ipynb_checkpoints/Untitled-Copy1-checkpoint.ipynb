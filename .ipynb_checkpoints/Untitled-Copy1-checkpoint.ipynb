{
 "cells": [
  {
   "cell_type": "code",
   "execution_count": 1,
   "metadata": {
    "collapsed": true
   },
   "outputs": [],
   "source": [
    "from tvtk.api import tvtk\n",
    "from mayavi import mlab\n",
    "import Image\n",
    "from scipy.spatial import distance\n",
    "import numpy as np\n",
    "import codecs, json \n",
    "from matplotlib.colors import LightSource\n",
    "\n",
    "\n"
   ]
  },
  {
   "cell_type": "code",
   "execution_count": 2,
   "metadata": {
    "collapsed": true
   },
   "outputs": [],
   "source": [
    "# CONSTRUCT the 3D scene\n",
    "#construct surface mesh\n",
    "fig2 = mlab.figure(bgcolor=(0, 0, 0), size=(400, 500))\n",
    "poly = mlab.pipeline.open(\"PLY/ASR.ply\")\n",
    "warp = mlab.pipeline.warp_scalar(poly, warp_scale=0.5)\n",
    "normals = mlab.pipeline.poly_data_normals(warp)\n",
    "surf = mlab.pipeline.surface(normals)\n",
    "#surf = mlab.mesh(mlab.pipeline.open(\"PLY/ASR.ply\"))\n",
    "\n",
    "#apply texture to the mesh\n",
    "im1 = Image.open(\"sampled_texture.jpg\")\n",
    "bmp1 = tvtk.JPEGReader(file_name=\"sampled_texture.jpg\")\n",
    "textur=tvtk.Texture(input_connection=bmp1.output_port, interpolate=0)\n",
    "surf.actor.enable_texture = True\n",
    "surf.actor.tcoord_generator_mode = 'plane'\n",
    "surf.actor.actor.texture = textur\n",
    "\n"
   ]
  },
  {
   "cell_type": "code",
   "execution_count": 3,
   "metadata": {
    "collapsed": false
   },
   "outputs": [],
   "source": [
    "#adjust the light source\n",
    "surf.scene.light_manager.light_mode = \"vtk\"\n",
    "surf.scene.light_manager.number_of_lights = 3\n",
    "camera_lights = surf.scene.light_manager.lights\n",
    "camera_lights[1].activate = False\n",
    "camera_lights[2].activate = False\n",
    "\n",
    "# SAVE images and camera poses\n",
    "#calculate the intrinsic matrix\n",
    "poses = []\n",
    "focs = []\n",
    "extrinsic_matrices = []\n",
    "cam,foc=mlab.move()\n",
    "poses.append(cam)\n",
    "focs.append(foc)\n",
    "focal_length=distance.euclidean(cam,foc)\n",
    "intrinsic_matrix=[[focal_length,0,surf.scene.get_size()[1]/2],[0,focal_length,surf.scene.get_size()[0]/2],[0,0,1]]\n",
    "\n",
    "#move camera and save images(unfinished)\n",
    "'''\n",
    "for i in range(50):\n",
    "    #move camera by (10,0,0)\n",
    "    mlab.move(10,0,0)\n",
    "\n",
    "    #get new camera position and focal point\n",
    "    cam,foc=mlab.move()\n",
    "    poses.append(cam)\n",
    "    focs.append(foc)\n",
    "    \n",
    "    #calculate the extrinsic matrix\n",
    "    matrix=surf.scene.camera.view_transform_matrix.to_array().astype(np.float32)\n",
    "    extrinsic_matrices.append(matrix)\n",
    "    \n",
    "    #save the scene.\n",
    "    surf.scene.save_png('saved_images/anim%d.png'%i)\n",
    "'''\n",
    "for i in range(10):\n",
    "    mlab.move(10,0,0)\n",
    "    surf.scene.save_png('saved_images/anim'+str(i)+'.png')\n",
    "\n",
    "for i in range(10):\n",
    "    mlab.move(0,10,0)\n",
    "    surf.scene.save_png('saved_images/anim'+str(i+10)+'.png')\n",
    "\n",
    "for i in range(10):\n",
    "    mlab.move(0,0,10)\n",
    "    surf.scene.save_png('saved_images/anim'+str(i+20)+'.png')\n",
    "mlab.show()\n"
   ]
  },
  {
   "cell_type": "code",
   "execution_count": null,
   "metadata": {
    "collapsed": true
   },
   "outputs": [],
   "source": []
  }
 ],
 "metadata": {
  "kernelspec": {
   "display_name": "Python 2",
   "language": "python",
   "name": "python2"
  },
  "language_info": {
   "codemirror_mode": {
    "name": "ipython",
    "version": 2
   },
   "file_extension": ".py",
   "mimetype": "text/x-python",
   "name": "python",
   "nbconvert_exporter": "python",
   "pygments_lexer": "ipython2",
   "version": "2.7.12"
  }
 },
 "nbformat": 4,
 "nbformat_minor": 1
}
