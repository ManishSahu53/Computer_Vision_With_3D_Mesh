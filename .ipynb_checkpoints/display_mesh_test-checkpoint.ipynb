{
 "cells": [
  {
   "cell_type": "code",
   "execution_count": 1,
   "metadata": {
    "collapsed": true
   },
   "outputs": [],
   "source": [
    "import pymesh\n",
    "import matplotlib.pyplot as plt\n",
    "from matplotlib import cm\n",
    "from matplotlib.ticker import LinearLocator\n",
    "import numpy as np"
   ]
  },
  {
   "cell_type": "code",
   "execution_count": 7,
   "metadata": {},
   "outputs": [
    {
     "name": "stdout",
     "output_type": "stream",
     "text": [
      "[[  5.08071995  26.2343998   -0.58441103]\n",
      " [  4.99601984  25.92970085  -0.58441103]\n",
      " [  5.08071995  25.92970085  -0.45867801]\n",
      " ..., \n",
      " [ -4.97396994  12.21879864  20.07859993]\n",
      " [ -4.5169301   12.56309891  21.01469994]\n",
      " [ -4.5169301   13.58989906  22.11610031]]\n"
     ]
    }
   ],
   "source": [
    "mesh = pymesh.load_mesh(\"PLY/target.ply\")\n",
    "print(mesh.vertices)"
   ]
  },
  {
   "cell_type": "code",
   "execution_count": null,
   "metadata": {
    "collapsed": true
   },
   "outputs": [],
   "source": []
  }
 ],
 "metadata": {
  "kernelspec": {
   "display_name": "Python 3",
   "language": "python",
   "name": "python3"
  },
  "language_info": {
   "codemirror_mode": {
    "name": "ipython",
    "version": 3
   },
   "file_extension": ".py",
   "mimetype": "text/x-python",
   "name": "python",
   "nbconvert_exporter": "python",
   "pygments_lexer": "ipython3",
   "version": "3.5.2"
  },
  "widgets": {
   "state": {},
   "version": "1.1.2"
  }
 },
 "nbformat": 4,
 "nbformat_minor": 2
}
