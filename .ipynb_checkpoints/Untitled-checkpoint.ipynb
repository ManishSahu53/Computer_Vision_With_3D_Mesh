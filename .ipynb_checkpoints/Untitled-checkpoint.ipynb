{
 "cells": [
  {
   "cell_type": "code",
   "execution_count": 1,
   "metadata": {
    "collapsed": true
   },
   "outputs": [],
   "source": [
    "from tvtk.api import tvtk\n",
    "from mayavi import mlab\n",
    "import Image\n",
    "from scipy.spatial import distance\n",
    "import numpy as np\n",
    "import codecs, json \n",
    "from matplotlib.colors import LightSource\n",
    "\n",
    "\n"
   ]
  },
  {
   "cell_type": "code",
   "execution_count": 2,
   "metadata": {
    "collapsed": true
   },
   "outputs": [],
   "source": [
    "# CONSTRUCT the 3D scene\n",
    "#construct surface mesh\n",
    "fig2 = mlab.figure(bgcolor=(0, 0, 0), size=(400, 500))\n",
    "poly = mlab.pipeline.open(\"PLY/ASR.ply\")\n",
    "warp = mlab.pipeline.warp_scalar(poly, warp_scale=0.5)\n",
    "normals = mlab.pipeline.poly_data_normals(warp)\n",
    "surf = mlab.pipeline.surface(normals)\n",
    "#surf = mlab.mesh(mlab.pipeline.open(\"PLY/ASR.ply\"))\n",
    "\n",
    "#apply texture to the mesh\n",
    "im1 = Image.open(\"sampled_texture.jpg\")\n",
    "bmp1 = tvtk.JPEGReader(file_name=\"sampled_texture.jpg\")\n",
    "textur=tvtk.Texture(input_connection=bmp1.output_port, interpolate=0)\n",
    "surf.actor.enable_texture = True\n",
    "surf.actor.tcoord_generator_mode = 'plane'\n",
    "surf.actor.actor.texture = textur\n",
    "\n",
    "#adjust the light source\n",
    "surf.scene.light_manager.light_mode = \"vtk\"\n",
    "surf.scene.light_manager.number_of_lights = 3\n",
    "camera_lights = surf.scene.light_manager.lights\n",
    "camera_lights[1].activate = False\n",
    "camera_lights[2].activate = False\n",
    "\n",
    "mlab.show()"
   ]
  },
  {
   "cell_type": "code",
   "execution_count": 4,
   "metadata": {
    "collapsed": false
   },
   "outputs": [
    {
     "ename": "AttributeError",
     "evalue": "'NoneType' object has no attribute 'aa_frames'",
     "output_type": "error",
     "traceback": [
      "\u001b[0;31m---------------------------------------------------------------------------\u001b[0m",
      "\u001b[0;31mAttributeError\u001b[0m                            Traceback (most recent call last)",
      "\u001b[0;32m<ipython-input-4-7d37066e5d1f>\u001b[0m in \u001b[0;36m<module>\u001b[0;34m()\u001b[0m\n\u001b[1;32m     64\u001b[0m             \u001b[0;32mfor\u001b[0m \u001b[0mele\u001b[0m \u001b[0;32min\u001b[0m \u001b[0mrange\u001b[0m\u001b[0;34m(\u001b[0m\u001b[0;36m5\u001b[0m\u001b[0;34m)\u001b[0m\u001b[0;34m:\u001b[0m\u001b[0;34m\u001b[0m\u001b[0m\n\u001b[1;32m     65\u001b[0m                 \u001b[0;32mfor\u001b[0m \u001b[0mazi\u001b[0m \u001b[0;32min\u001b[0m \u001b[0mrange\u001b[0m\u001b[0;34m(\u001b[0m\u001b[0;36m8\u001b[0m\u001b[0;34m)\u001b[0m\u001b[0;34m:\u001b[0m\u001b[0;34m\u001b[0m\u001b[0m\n\u001b[0;32m---> 66\u001b[0;31m                     \u001b[0msurf\u001b[0m\u001b[0;34m.\u001b[0m\u001b[0mscene\u001b[0m\u001b[0;34m.\u001b[0m\u001b[0msave_png\u001b[0m\u001b[0;34m(\u001b[0m\u001b[0;34m'training_set/'\u001b[0m\u001b[0;34m+\u001b[0m\u001b[0mstr\u001b[0m\u001b[0;34m(\u001b[0m\u001b[0mcnt\u001b[0m\u001b[0;34m)\u001b[0m\u001b[0;34m+\u001b[0m\u001b[0;34m'.png'\u001b[0m\u001b[0;34m)\u001b[0m\u001b[0;34m\u001b[0m\u001b[0m\n\u001b[0m\u001b[1;32m     67\u001b[0m                     \u001b[0mcnt\u001b[0m \u001b[0;34m=\u001b[0m \u001b[0mcnt\u001b[0m \u001b[0;34m+\u001b[0m\u001b[0;36m1\u001b[0m\u001b[0;34m\u001b[0m\u001b[0m\n\u001b[1;32m     68\u001b[0m                     \u001b[0msurf\u001b[0m\u001b[0;34m.\u001b[0m\u001b[0mscene\u001b[0m\u001b[0;34m.\u001b[0m\u001b[0mcamera\u001b[0m\u001b[0;34m.\u001b[0m\u001b[0mazimuth\u001b[0m\u001b[0;34m(\u001b[0m\u001b[0;36m45\u001b[0m\u001b[0;34m)\u001b[0m\u001b[0;34m\u001b[0m\u001b[0m\n",
      "\u001b[0;32m/usr/local/lib/python2.7/dist-packages/tvtk/pyface/tvtk_scene.pyc\u001b[0m in \u001b[0;36msave_png\u001b[0;34m(self, file_name)\u001b[0m\n\u001b[1;32m    470\u001b[0m             \u001b[0mex\u001b[0m\u001b[0;34m.\u001b[0m\u001b[0mfile_name\u001b[0m \u001b[0;34m=\u001b[0m \u001b[0mfile_name\u001b[0m\u001b[0;34m\u001b[0m\u001b[0m\n\u001b[1;32m    471\u001b[0m             \u001b[0mconfigure_input\u001b[0m\u001b[0;34m(\u001b[0m\u001b[0mex\u001b[0m\u001b[0;34m,\u001b[0m \u001b[0mw2if\u001b[0m\u001b[0;34m)\u001b[0m\u001b[0;34m\u001b[0m\u001b[0m\n\u001b[0;32m--> 472\u001b[0;31m             \u001b[0mself\u001b[0m\u001b[0;34m.\u001b[0m\u001b[0m_exporter_write\u001b[0m\u001b[0;34m(\u001b[0m\u001b[0mex\u001b[0m\u001b[0;34m)\u001b[0m\u001b[0;34m\u001b[0m\u001b[0m\n\u001b[0m\u001b[1;32m    473\u001b[0m \u001b[0;34m\u001b[0m\u001b[0m\n\u001b[1;32m    474\u001b[0m     \u001b[0;32mdef\u001b[0m \u001b[0msave_jpg\u001b[0m\u001b[0;34m(\u001b[0m\u001b[0mself\u001b[0m\u001b[0;34m,\u001b[0m \u001b[0mfile_name\u001b[0m\u001b[0;34m,\u001b[0m \u001b[0mquality\u001b[0m\u001b[0;34m=\u001b[0m\u001b[0mNone\u001b[0m\u001b[0;34m,\u001b[0m \u001b[0mprogressive\u001b[0m\u001b[0;34m=\u001b[0m\u001b[0mNone\u001b[0m\u001b[0;34m)\u001b[0m\u001b[0;34m:\u001b[0m\u001b[0;34m\u001b[0m\u001b[0m\n",
      "\u001b[0;32m/usr/local/lib/python2.7/dist-packages/tvtk/pyface/tvtk_scene.pyc\u001b[0m in \u001b[0;36m_exporter_write\u001b[0;34m(self, ex)\u001b[0m\n\u001b[1;32m    850\u001b[0m         \u001b[0;31m# that the saved picture looks nicer.\u001b[0m\u001b[0;34m\u001b[0m\u001b[0;34m\u001b[0m\u001b[0m\n\u001b[1;32m    851\u001b[0m         \u001b[0mrw\u001b[0m \u001b[0;34m=\u001b[0m \u001b[0mself\u001b[0m\u001b[0;34m.\u001b[0m\u001b[0mrender_window\u001b[0m\u001b[0;34m\u001b[0m\u001b[0m\n\u001b[0;32m--> 852\u001b[0;31m         \u001b[0maa_frames\u001b[0m \u001b[0;34m=\u001b[0m \u001b[0mrw\u001b[0m\u001b[0;34m.\u001b[0m\u001b[0maa_frames\u001b[0m\u001b[0;34m\u001b[0m\u001b[0m\n\u001b[0m\u001b[1;32m    853\u001b[0m         \u001b[0mrw\u001b[0m\u001b[0;34m.\u001b[0m\u001b[0maa_frames\u001b[0m \u001b[0;34m=\u001b[0m \u001b[0mself\u001b[0m\u001b[0;34m.\u001b[0m\u001b[0manti_aliasing_frames\u001b[0m\u001b[0;34m\u001b[0m\u001b[0m\n\u001b[1;32m    854\u001b[0m         \u001b[0mrw\u001b[0m\u001b[0;34m.\u001b[0m\u001b[0mrender\u001b[0m\u001b[0;34m(\u001b[0m\u001b[0;34m)\u001b[0m\u001b[0;34m\u001b[0m\u001b[0m\n",
      "\u001b[0;31mAttributeError\u001b[0m: 'NoneType' object has no attribute 'aa_frames'"
     ]
    }
   ],
   "source": [
    "\n",
    "\n",
    "# SAVE images and camera poses\n",
    "#calculate the intrinsic matrix\n",
    "poses = []\n",
    "focs = []\n",
    "extrinsic_matrices = []\n",
    "cam,foc=mlab.move()\n",
    "poses.append(cam)\n",
    "focs.append(foc)\n",
    "focal_length=distance.euclidean(cam,foc)\n",
    "intrinsic_matrix=[[focal_length,0,surf.scene.get_size()[1]/2],[0,focal_length,surf.scene.get_size()[0]/2],[0,0,1]]\n",
    "\n",
    "\n",
    "mlab.move(100,0,0)\n",
    "#move camera and save images(unfinished)\n",
    "'''\n",
    "for i in range(50):\n",
    "    #move camera by (10,0,0)\n",
    "    mlab.move(10,0,0)\n",
    "\n",
    "    #get new camera position and focal point\n",
    "    cam,foc=mlab.move()\n",
    "    poses.append(cam)\n",
    "    focs.append(foc)\n",
    "    \n",
    "    #calculate the extrinsic matrix\n",
    "    matrix=surf.scene.camera.view_transform_matrix.to_array().astype(np.float32)\n",
    "    extrinsic_matrices.append(matrix)\n",
    "    \n",
    "    #save the scene.\n",
    "    surf.scene.save_png('saved_images/anim%d.png'%i)\n",
    "'''\n",
    "mlab.view(90,120,75)\n",
    "\n",
    "cnt = 0\n",
    "for i in range(100):\n",
    "    for j in range(5):\n",
    "        mlab.move(0,1,0)\n",
    "        for k in range(5):\n",
    "            mlab.move(0,0,1)\n",
    "            for ele in range(5):\n",
    "                for azi in range(8):\n",
    "                    surf.scene.save_png('training_set/'+str(cnt)+'.png')\n",
    "                    cnt = cnt +1\n",
    "                    surf.scene.camera.azimuth(45)\n",
    "                surf.scene.camera.azimuth(-315)\n",
    "                surf.scene.camera.elevation(45)\n",
    "            surf.scene.camera.elevation(-180)\n",
    "        mlab.move(0,0,-5)\n",
    "    mlab.move(0,-5,0)\n",
    "    \n",
    "    mlab.move(1,0,0)\n",
    "mlab.move(-100,0,0)\n",
    "mlab.show()"
   ]
  },
  {
   "cell_type": "code",
   "execution_count": 4,
   "metadata": {
    "collapsed": false
   },
   "outputs": [],
   "source": [
    "\n"
   ]
  },
  {
   "cell_type": "code",
   "execution_count": null,
   "metadata": {
    "collapsed": true
   },
   "outputs": [],
   "source": []
  }
 ],
 "metadata": {
  "kernelspec": {
   "display_name": "Python 2",
   "language": "python",
   "name": "python2"
  },
  "language_info": {
   "codemirror_mode": {
    "name": "ipython",
    "version": 2
   },
   "file_extension": ".py",
   "mimetype": "text/x-python",
   "name": "python",
   "nbconvert_exporter": "python",
   "pygments_lexer": "ipython2",
   "version": "2.7.12"
  }
 },
 "nbformat": 4,
 "nbformat_minor": 1
}
