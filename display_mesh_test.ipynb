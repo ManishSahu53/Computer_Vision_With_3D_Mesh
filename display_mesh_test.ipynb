{
 "cells": [
  {
   "cell_type": "code",
   "execution_count": 1,
   "metadata": {
    "collapsed": true
   },
   "outputs": [],
   "source": [
    "import vtk"
   ]
  },
  {
   "cell_type": "code",
   "execution_count": 2,
   "metadata": {
    "collapsed": false
   },
   "outputs": [],
   "source": [
    "filename = \"PLY/target.ply\"\n",
    " \n",
    "sphereSource = vtk.vtkSphereSource()\n",
    "sphereSource.Update()\n",
    " \n",
    "plyWriter = vtk.vtkPLYWriter()\n",
    "plyWriter.SetFileName(filename)\n",
    "plyWriter.SetInputConnection(sphereSource.GetOutputPort())\n",
    "plyWriter.Write()\n",
    " \n",
    "#Read and display for verication\n",
    "reader = vtk.vtkPLYReader()\n",
    "reader.SetFileName(filename)\n",
    "reader.Update()\n",
    " \n",
    "mapper = vtk.vtkPolyDataMapper()\n",
    "mapper.SetInputConnection(reader.GetOutputPort())\n",
    " \n",
    "actor = vtk.vtkActor()\n",
    "actor.SetMapper(mapper)\n",
    " \n",
    "renderer = vtk.vtkRenderer()\n",
    "renderWindow = vtk.vtkRenderWindow()\n",
    "renderWindow.AddRenderer(renderer)\n",
    "renderWindowInteractor = vtk.vtkRenderWindowInteractor()\n",
    "renderWindowInteractor.SetRenderWindow(renderWindow)\n",
    " \n",
    "renderer.AddActor(actor)\n",
    "renderer.SetBackground(.3, .6, .3)   #Background color green\n",
    " \n",
    "renderWindow.Render()\n",
    "renderWindowInteractor.Start()"
   ]
  },
  {
   "cell_type": "code",
   "execution_count": 4,
   "metadata": {
    "collapsed": true
   },
   "outputs": [],
   "source": [
    "from numpy import pi, sin, cos, mgrid\n",
    "dphi, dtheta = pi/250.0, pi/250.0\n",
    "[phi,theta] = mgrid[0:pi+dphi*1.5:dphi,0:2*pi+dtheta*1.5:dtheta]\n",
    "m0 = 4; m1 = 3; m2 = 2; m3 = 3; m4 = 6; m5 = 2; m6 = 6; m7 = 4;\n",
    "r = sin(m0*phi)**m1 + cos(m2*phi)**m3 + sin(m4*theta)**m5 + cos(m6*theta)**m7\n",
    "x = r*sin(phi)*cos(theta)\n",
    "y = r*cos(phi)\n",
    "z = r*sin(phi)*sin(theta)"
   ]
  },
  {
   "cell_type": "code",
   "execution_count": 14,
   "metadata": {
    "collapsed": true
   },
   "outputs": [],
   "source": [
    "from mayavi import mlab"
   ]
  },
  {
   "cell_type": "code",
   "execution_count": 7,
   "metadata": {
    "collapsed": false
   },
   "outputs": [
    {
     "data": {
      "text/plain": [
       "array([[  0.00000000e+00,   0.00000000e+00,   0.00000000e+00, ...,\n",
       "          0.00000000e+00,   0.00000000e+00,   0.00000000e+00],\n",
       "       [  2.51217719e-02,   2.50488973e-02,   2.48367387e-02, ...,\n",
       "          2.50488973e-02,   2.51217719e-02,   2.50488973e-02],\n",
       "       [  5.01904937e-02,   5.00447598e-02,   4.96204877e-02, ...,\n",
       "          5.00447598e-02,   5.01904937e-02,   5.00447598e-02],\n",
       "       ..., \n",
       "       [  2.51185842e-02,   2.50457098e-02,   2.48335519e-02, ...,\n",
       "          2.50457098e-02,   2.51185842e-02,   2.50457098e-02],\n",
       "       [  2.44929360e-16,   2.44219138e-16,   2.42151484e-16, ...,\n",
       "          2.44219138e-16,   2.44929360e-16,   2.44219138e-16],\n",
       "       [ -2.51217719e-02,  -2.50488973e-02,  -2.48367387e-02, ...,\n",
       "         -2.50488973e-02,  -2.51217719e-02,  -2.50488973e-02]])"
      ]
     },
     "execution_count": 7,
     "metadata": {},
     "output_type": "execute_result"
    }
   ],
   "source": [
    "x"
   ]
  },
  {
   "cell_type": "code",
   "execution_count": 3,
   "metadata": {
    "collapsed": true
   },
   "outputs": [],
   "source": [
    "s = mlab.mesh(x, y, z)"
   ]
  },
  {
   "cell_type": "code",
   "execution_count": 4,
   "metadata": {
    "collapsed": true
   },
   "outputs": [],
   "source": [
    "mlab.show()"
   ]
  },
  {
   "cell_type": "code",
   "execution_count": 1,
   "metadata": {
    "collapsed": true
   },
   "outputs": [],
   "source": [
    "from plyfile import PlyData, PlyElement"
   ]
  },
  {
   "cell_type": "code",
   "execution_count": 2,
   "metadata": {
    "collapsed": false
   },
   "outputs": [],
   "source": [
    "data = PlyData.read('PLY/target.ply')"
   ]
  },
  {
   "cell_type": "code",
   "execution_count": 3,
   "metadata": {
    "collapsed": false
   },
   "outputs": [
    {
     "data": {
      "text/plain": [
       "PlyData((PlyElement('vertex', (PlyProperty('x', 'float'), PlyProperty('y', 'float'), PlyProperty('z', 'float'), PlyProperty('texture_u', 'float'), PlyProperty('texture_v', 'float')), count=22474, comments=[]), PlyElement('face', (PlyListProperty('vertex_indices', 'uchar', 'int'),), count=43198, comments=[])), text=False, byte_order='<', comments=[u'VCGLIB generated'], obj_info=[])"
      ]
     },
     "execution_count": 3,
     "metadata": {},
     "output_type": "execute_result"
    }
   ],
   "source": [
    "data"
   ]
  },
  {
   "cell_type": "code",
   "execution_count": 4,
   "metadata": {
    "collapsed": false
   },
   "outputs": [],
   "source": [
    "X=data['vertex']['x']"
   ]
  },
  {
   "cell_type": "code",
   "execution_count": 5,
   "metadata": {
    "collapsed": true
   },
   "outputs": [],
   "source": [
    "Y=data['vertex']['y']"
   ]
  },
  {
   "cell_type": "code",
   "execution_count": 6,
   "metadata": {
    "collapsed": true
   },
   "outputs": [],
   "source": [
    "Z=data['vertex']['z']"
   ]
  },
  {
   "cell_type": "code",
   "execution_count": 7,
   "metadata": {
    "collapsed": true
   },
   "outputs": [],
   "source": [
    "from mayavi import mlab"
   ]
  },
  {
   "cell_type": "code",
   "execution_count": 8,
   "metadata": {
    "collapsed": false,
    "scrolled": true
   },
   "outputs": [],
   "source": [
    "import numpy as np\n",
    "pts = mlab.points3d(X, Y, Z, Z)"
   ]
  },
  {
   "cell_type": "code",
   "execution_count": 9,
   "metadata": {
    "collapsed": false
   },
   "outputs": [],
   "source": [
    "mesh = mlab.pipeline.delaunay2d(pts)"
   ]
  },
  {
   "cell_type": "code",
   "execution_count": 10,
   "metadata": {
    "collapsed": true
   },
   "outputs": [],
   "source": [
    "pts.remove()\n",
    "\n",
    "# Draw a surface based on the triangulation\n",
    "surf = mlab.pipeline.surface(mesh)\n",
    "\n",
    "# Simple plot.\n",
    "mlab.xlabel(\"x\")\n",
    "mlab.ylabel(\"y\")\n",
    "mlab.zlabel(\"z\")\n",
    "mlab.show()"
   ]
  },
  {
   "cell_type": "code",
   "execution_count": 11,
   "metadata": {
    "collapsed": true
   },
   "outputs": [],
   "source": [
    "import numpy as np\n",
    "from mayavi.mlab import *\n",
    "\n",
    "def test_triangular_mesh():\n",
    "    \"\"\"An example of a cone, ie a non-regular mesh defined by its\n",
    "        triangles.\n",
    "    \"\"\"\n",
    "    n = 8\n",
    "    t = np.linspace(-np.pi, np.pi, n)\n",
    "    z = np.exp(1j * t)\n",
    "    x = z.real.copy()\n",
    "    y = z.imag.copy()\n",
    "    z = np.zeros_like(x)\n",
    "\n",
    "    triangles = [(0, i, i + 1) for i in range(1, n)]\n",
    "    x = np.r_[0, x]\n",
    "    y = np.r_[0, y]\n",
    "    z = np.r_[1, z]\n",
    "    t = np.r_[0, t]\n",
    "\n",
    "    return triangular_mesh(x, y, z, triangles, scalars=t)"
   ]
  },
  {
   "cell_type": "code",
   "execution_count": 12,
   "metadata": {
    "collapsed": true
   },
   "outputs": [],
   "source": [
    "s=test_triangular_mesh()"
   ]
  },
  {
   "cell_type": "code",
   "execution_count": 13,
   "metadata": {
    "collapsed": true
   },
   "outputs": [],
   "source": [
    "mlab.show()"
   ]
  },
  {
   "cell_type": "code",
   "execution_count": 14,
   "metadata": {
    "collapsed": false
   },
   "outputs": [
    {
     "data": {
      "text/plain": [
       "22474"
      ]
     },
     "execution_count": 14,
     "metadata": {},
     "output_type": "execute_result"
    }
   ],
   "source": [
    "len(X)"
   ]
  },
  {
   "cell_type": "code",
   "execution_count": null,
   "metadata": {
    "collapsed": true
   },
   "outputs": [],
   "source": [
    "import os\n",
    "from os.path import join\n",
    "\n",
    "# Enthought library imports\n",
    "from mayavi import mlab\n",
    "\n",
    "# ### Download the bunny data, if not already on disk ############################\n",
    "# if not os.path.exists('bunny.tar.gz'):\n",
    "#     # Download the data\n",
    "#     try:\n",
    "#         from urllib import urlopen\n",
    "#     except ImportError:\n",
    "#         from urllib.request import urlopen\n",
    "#     print(\"Downloading bunny model, Please Wait (3MB)\")\n",
    "#     opener = urlopen(\n",
    "#                 'http://graphics.stanford.edu/pub/3Dscanrep/bunny.tar.gz')\n",
    "#     open('bunny.tar.gz', 'wb').write(opener.read())\n",
    "\n",
    "# # Extract the data\n",
    "# import tarfile\n",
    "# bunny_tar_file = tarfile.open('bunny.tar.gz')\n",
    "# try:\n",
    "#     os.mkdir('bunny_data')\n",
    "# except:\n",
    "#     pass\n",
    "# bunny_tar_file.extractall('bunny_data')\n",
    "# bunny_tar_file.close()\n",
    "\n",
    "# # Path to the bunny ply file\n",
    "# bunny_ply_file = join('bunny_data', 'bunny', 'reconstruction', 'bun_zipper.ply')\n",
    "\n",
    "# Render the bunny ply file\n",
    "mlab.pipeline.surface(mlab.pipeline.open(\"PLY/target.ply\"))\n",
    "mlab.show()\n",
    "\n",
    "# import shutil\n",
    "# shutil.rmtree('bunny_data')"
   ]
  },
  {
   "cell_type": "code",
   "execution_count": null,
   "metadata": {
    "collapsed": true
   },
   "outputs": [],
   "source": []
  }
 ],
 "metadata": {
  "anaconda-cloud": {},
  "kernelspec": {
   "display_name": "Python [dato-env]",
   "language": "python",
   "name": "Python [dato-env]"
  },
  "language_info": {
   "codemirror_mode": {
    "name": "ipython",
    "version": 2
   },
   "file_extension": ".py",
   "mimetype": "text/x-python",
   "name": "python",
   "nbconvert_exporter": "python",
   "pygments_lexer": "ipython2",
   "version": "2.7.13"
  },
  "widgets": {
   "state": {},
   "version": "1.1.2"
  }
 },
 "nbformat": 4,
 "nbformat_minor": 2
}
