{
 "cells": [
  {
   "cell_type": "code",
   "execution_count": 1,
   "metadata": {
    "collapsed": true
   },
   "outputs": [],
   "source": [
    "import vtk"
   ]
  },
  {
   "cell_type": "code",
   "execution_count": 2,
   "metadata": {
    "collapsed": false
   },
   "outputs": [],
   "source": [
    "filename = \"PLY/target.ply\"\n",
    " \n",
    "sphereSource = vtk.vtkSphereSource()\n",
    "sphereSource.Update()\n",
    " \n",
    "plyWriter = vtk.vtkPLYWriter()\n",
    "plyWriter.SetFileName(filename)\n",
    "plyWriter.SetInputConnection(sphereSource.GetOutputPort())\n",
    "plyWriter.Write()\n",
    " \n",
    "#Read and display for verication\n",
    "reader = vtk.vtkPLYReader()\n",
    "reader.SetFileName(filename)\n",
    "reader.Update()\n",
    " \n",
    "mapper = vtk.vtkPolyDataMapper()\n",
    "mapper.SetInputConnection(reader.GetOutputPort())\n",
    " \n",
    "actor = vtk.vtkActor()\n",
    "actor.SetMapper(mapper)\n",
    " \n",
    "renderer = vtk.vtkRenderer()\n",
    "renderWindow = vtk.vtkRenderWindow()\n",
    "renderWindow.AddRenderer(renderer)\n",
    "renderWindowInteractor = vtk.vtkRenderWindowInteractor()\n",
    "renderWindowInteractor.SetRenderWindow(renderWindow)\n",
    " \n",
    "renderer.AddActor(actor)\n",
    "renderer.SetBackground(.3, .6, .3)   #Background color green\n",
    " \n",
    "renderWindow.Render()\n",
    "renderWindowInteractor.Start()"
   ]
  },
  {
   "cell_type": "code",
   "execution_count": 13,
   "metadata": {
    "collapsed": true
   },
   "outputs": [],
   "source": [
    "from numpy import pi, sin, cos, mgrid\n",
    "dphi, dtheta = pi/250.0, pi/250.0\n",
    "[phi,theta] = mgrid[0:pi+dphi*1.5:dphi,0:2*pi+dtheta*1.5:dtheta]\n",
    "m0 = 4; m1 = 3; m2 = 2; m3 = 3; m4 = 6; m5 = 2; m6 = 6; m7 = 4;\n",
    "r = sin(m0*phi)**m1 + cos(m2*phi)**m3 + sin(m4*theta)**m5 + cos(m6*theta)**m7\n",
    "x = r*sin(phi)*cos(theta)\n",
    "y = r*cos(phi)\n",
    "z = r*sin(phi)*sin(theta)"
   ]
  },
  {
   "cell_type": "code",
   "execution_count": 14,
   "metadata": {
    "collapsed": true
   },
   "outputs": [],
   "source": [
    "from mayavi import mlab"
   ]
  },
  {
   "cell_type": "code",
   "execution_count": 15,
   "metadata": {
    "collapsed": false
   },
   "outputs": [
    {
     "data": {
      "text/plain": [
       "array([[  0.00000000e+00,   0.00000000e+00,   0.00000000e+00, ...,\n",
       "          0.00000000e+00,   0.00000000e+00,   0.00000000e+00],\n",
       "       [  2.51217719e-02,   2.50488973e-02,   2.48367387e-02, ...,\n",
       "          2.50488973e-02,   2.51217719e-02,   2.50488973e-02],\n",
       "       [  5.01904937e-02,   5.00447598e-02,   4.96204877e-02, ...,\n",
       "          5.00447598e-02,   5.01904937e-02,   5.00447598e-02],\n",
       "       ..., \n",
       "       [  2.51185842e-02,   2.50457098e-02,   2.48335519e-02, ...,\n",
       "          2.50457098e-02,   2.51185842e-02,   2.50457098e-02],\n",
       "       [  2.44929360e-16,   2.44219138e-16,   2.42151484e-16, ...,\n",
       "          2.44219138e-16,   2.44929360e-16,   2.44219138e-16],\n",
       "       [ -2.51217719e-02,  -2.50488973e-02,  -2.48367387e-02, ...,\n",
       "         -2.50488973e-02,  -2.51217719e-02,  -2.50488973e-02]])"
      ]
     },
     "execution_count": 15,
     "metadata": {},
     "output_type": "execute_result"
    }
   ],
   "source": [
    "x"
   ]
  },
  {
   "cell_type": "code",
   "execution_count": 3,
   "metadata": {
    "collapsed": true
   },
   "outputs": [],
   "source": [
    "s = mlab.mesh(x, y, z)"
   ]
  },
  {
   "cell_type": "code",
   "execution_count": 4,
   "metadata": {
    "collapsed": true
   },
   "outputs": [],
   "source": [
    "mlab.show()"
   ]
  },
  {
   "cell_type": "code",
   "execution_count": 1,
   "metadata": {
    "collapsed": true
   },
   "outputs": [],
   "source": [
    "from plyfile import PlyData, PlyElement"
   ]
  },
  {
   "cell_type": "code",
   "execution_count": 2,
   "metadata": {
    "collapsed": false
   },
   "outputs": [],
   "source": [
    "data = PlyData.read('PLY/target.ply')"
   ]
  },
  {
   "cell_type": "code",
   "execution_count": 3,
   "metadata": {
    "collapsed": false
   },
   "outputs": [
    {
     "data": {
      "text/plain": [
       "PlyData((PlyElement('vertex', (PlyProperty('x', 'float'), PlyProperty('y', 'float'), PlyProperty('z', 'float'), PlyProperty('texture_u', 'float'), PlyProperty('texture_v', 'float')), count=22474, comments=[]), PlyElement('face', (PlyListProperty('vertex_indices', 'uchar', 'int'),), count=43198, comments=[])), text=False, byte_order='<', comments=[u'VCGLIB generated'], obj_info=[])"
      ]
     },
     "execution_count": 3,
     "metadata": {},
     "output_type": "execute_result"
    }
   ],
   "source": [
    "data"
   ]
  },
  {
   "cell_type": "code",
   "execution_count": 4,
   "metadata": {
    "collapsed": false
   },
   "outputs": [],
   "source": [
    "X=data['vertex']['x']"
   ]
  },
  {
   "cell_type": "code",
   "execution_count": 5,
   "metadata": {
    "collapsed": true
   },
   "outputs": [],
   "source": [
    "Y=data['vertex']['y']"
   ]
  },
  {
   "cell_type": "code",
   "execution_count": 6,
   "metadata": {
    "collapsed": true
   },
   "outputs": [],
   "source": [
    "Z=data['vertex']['z']"
   ]
  },
  {
   "cell_type": "code",
   "execution_count": 7,
   "metadata": {
    "collapsed": true
   },
   "outputs": [],
   "source": [
    "from mayavi import mlab"
   ]
  },
  {
   "cell_type": "code",
   "execution_count": 8,
   "metadata": {
    "collapsed": false
   },
   "outputs": [],
   "source": [
    "s = mlab.plot3d(X,Y,Z,colormap='Spectral')"
   ]
  },
  {
   "cell_type": "code",
   "execution_count": null,
   "metadata": {
    "collapsed": true
   },
   "outputs": [],
   "source": [
    "mlab.show()"
   ]
  },
  {
   "cell_type": "code",
   "execution_count": null,
   "metadata": {
    "collapsed": true
   },
   "outputs": [],
   "source": []
  }
 ],
 "metadata": {
  "anaconda-cloud": {},
  "kernelspec": {
   "display_name": "Python [dato-env]",
   "language": "python",
   "name": "Python [dato-env]"
  },
  "language_info": {
   "codemirror_mode": {
    "name": "ipython",
    "version": 2
   },
   "file_extension": ".py",
   "mimetype": "text/x-python",
   "name": "python",
   "nbconvert_exporter": "python",
   "pygments_lexer": "ipython2",
   "version": "2.7.13"
  },
  "widgets": {
   "state": {},
   "version": "1.1.2"
  }
 },
 "nbformat": 4,
 "nbformat_minor": 2
}
