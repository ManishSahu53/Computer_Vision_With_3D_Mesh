{
 "cells": [
  {
   "cell_type": "code",
   "execution_count": 12,
   "metadata": {
    "collapsed": true
   },
   "outputs": [],
   "source": [
    "from plyfile import PlyData, PlyElement"
   ]
  },
  {
   "cell_type": "code",
   "execution_count": 13,
   "metadata": {
    "collapsed": false
   },
   "outputs": [],
   "source": [
    "data = PlyData.read('PLY/target.ply')"
   ]
  },
  {
   "cell_type": "code",
   "execution_count": 14,
   "metadata": {
    "collapsed": false
   },
   "outputs": [
    {
     "data": {
      "text/plain": [
       "PlyData((PlyElement('vertex', (PlyProperty('x', 'float'), PlyProperty('y', 'float'), PlyProperty('z', 'float'), PlyProperty('texture_u', 'float'), PlyProperty('texture_v', 'float')), count=22474, comments=[]), PlyElement('face', (PlyListProperty('vertex_indices', 'uchar', 'int'),), count=43198, comments=[])), text=False, byte_order='<', comments=[u'VCGLIB generated'], obj_info=[])"
      ]
     },
     "execution_count": 14,
     "metadata": {},
     "output_type": "execute_result"
    }
   ],
   "source": [
    "data"
   ]
  },
  {
   "cell_type": "code",
   "execution_count": 15,
   "metadata": {
    "collapsed": false
   },
   "outputs": [],
   "source": [
    "X=data['vertex']['x']"
   ]
  },
  {
   "cell_type": "code",
   "execution_count": 16,
   "metadata": {
    "collapsed": true
   },
   "outputs": [],
   "source": [
    "Y=data['vertex']['y']"
   ]
  },
  {
   "cell_type": "code",
   "execution_count": 17,
   "metadata": {
    "collapsed": true
   },
   "outputs": [],
   "source": [
    "Z=data['vertex']['z']"
   ]
  },
  {
   "cell_type": "code",
   "execution_count": 18,
   "metadata": {
    "collapsed": true
   },
   "outputs": [],
   "source": [
    "from mayavi import mlab"
   ]
  },
  {
   "cell_type": "code",
   "execution_count": 19,
   "metadata": {
    "collapsed": false,
    "scrolled": true
   },
   "outputs": [],
   "source": [
    "import numpy as np\n",
    "pts = mlab.points3d(X, Y, Z, Z)"
   ]
  },
  {
   "cell_type": "code",
   "execution_count": 20,
   "metadata": {
    "collapsed": false
   },
   "outputs": [],
   "source": [
    "mesh = mlab.pipeline.delaunay2d(pts)"
   ]
  },
  {
   "cell_type": "code",
   "execution_count": 21,
   "metadata": {
    "collapsed": true
   },
   "outputs": [],
   "source": [
    "pts.remove()\n",
    "\n",
    "# Draw a surface based on the triangulation\n",
    "surf = mlab.pipeline.surface(mesh)\n",
    "\n",
    "# Simple plot.\n",
    "mlab.xlabel(\"x\")\n",
    "mlab.ylabel(\"y\")\n",
    "mlab.zlabel(\"z\")\n",
    "mlab.show()"
   ]
  },
  {
   "cell_type": "code",
   "execution_count": 11,
   "metadata": {
    "collapsed": true
   },
   "outputs": [],
   "source": [
    "import numpy as np\n",
    "from mayavi.mlab import *\n",
    "\n",
    "def test_triangular_mesh():\n",
    "    \"\"\"An example of a cone, ie a non-regular mesh defined by its\n",
    "        triangles.\n",
    "    \"\"\"\n",
    "    n = 8\n",
    "    t = np.linspace(-np.pi, np.pi, n)\n",
    "    z = np.exp(1j * t)\n",
    "    x = z.real.copy()\n",
    "    y = z.imag.copy()\n",
    "    z = np.zeros_like(x)\n",
    "\n",
    "    triangles = [(0, i, i + 1) for i in range(1, n)]\n",
    "    x = np.r_[0, x]\n",
    "    y = np.r_[0, y]\n",
    "    z = np.r_[1, z]\n",
    "    t = np.r_[0, t]\n",
    "\n",
    "    return triangular_mesh(x, y, z, triangles, scalars=t)"
   ]
  },
  {
   "cell_type": "code",
   "execution_count": 12,
   "metadata": {
    "collapsed": true
   },
   "outputs": [],
   "source": [
    "s=test_triangular_mesh()"
   ]
  },
  {
   "cell_type": "code",
   "execution_count": 13,
   "metadata": {
    "collapsed": true
   },
   "outputs": [],
   "source": [
    "mlab.show()"
   ]
  },
  {
   "cell_type": "code",
   "execution_count": 14,
   "metadata": {
    "collapsed": false
   },
   "outputs": [
    {
     "data": {
      "text/plain": [
       "22474"
      ]
     },
     "execution_count": 14,
     "metadata": {},
     "output_type": "execute_result"
    }
   ],
   "source": [
    "len(X)"
   ]
  },
  {
   "cell_type": "code",
   "execution_count": 22,
   "metadata": {
    "collapsed": false
   },
   "outputs": [
    {
     "name": "stdout",
     "output_type": "stream",
     "text": [
      "Notebook initialized with x3d backend.\n"
     ]
    }
   ],
   "source": [
    "import os\n",
    "from os.path import join\n",
    "\n",
    "# Enthought library imports\n",
    "from mayavi import mlab\n",
    "mlab.init_notebook()\n",
    "# ### Download the bunny data, if not already on disk ############################\n",
    "# if not os.path.exists('bunny.tar.gz'):\n",
    "#     # Download the data\n",
    "#     try:\n",
    "#         from urllib import urlopen\n",
    "#     except ImportError:\n",
    "#         from urllib.request import urlopen\n",
    "#     print(\"Downloading bunny model, Please Wait (3MB)\")\n",
    "#     opener = urlopen(\n",
    "#                 'http://graphics.stanford.edu/pub/3Dscanrep/bunny.tar.gz')\n",
    "#     open('bunny.tar.gz', 'wb').write(opener.read())\n",
    "\n",
    "# # Extract the data\n",
    "# import tarfile\n",
    "# bunny_tar_file = tarfile.open('bunny.tar.gz')\n",
    "# try:\n",
    "#     os.mkdir('bunny_data')\n",
    "# except:\n",
    "#     pass\n",
    "# bunny_tar_file.extractall('bunny_data')\n",
    "# bunny_tar_file.close()\n",
    "\n",
    "# # Path to the bunny ply file\n",
    "# bunny_ply_file = join('bunny_data', 'bunny', 'reconstruction', 'bun_zipper.ply')\n",
    "\n",
    "# Render the bunny ply file\n",
    "mlab.pipeline.surface(mlab.pipeline.open(\"PLY/target.ply\"))\n",
    "mlab.show()\n",
    "\n",
    "# import shutil\n",
    "# shutil.rmtree('bunny_data')"
   ]
  },
  {
   "cell_type": "code",
   "execution_count": 1,
   "metadata": {
    "collapsed": true
   },
   "outputs": [],
   "source": [
    "import os\n",
    "from os.path import join\n",
    "\n",
    "# Enthought library imports\n",
    "from mayavi import mlab"
   ]
  },
  {
   "cell_type": "code",
   "execution_count": 2,
   "metadata": {
    "collapsed": true
   },
   "outputs": [],
   "source": [
    "data=mlab.pipeline.open(\"PLY/target.ply\")"
   ]
  },
  {
   "cell_type": "code",
   "execution_count": 4,
   "metadata": {
    "collapsed": false
   },
   "outputs": [],
   "source": [
    "surf=mlab.pipeline.surface(mlab.pipeline.open(\"PLY/target.ply\"))"
   ]
  },
  {
   "cell_type": "code",
   "execution_count": 5,
   "metadata": {
    "collapsed": true
   },
   "outputs": [],
   "source": [
    "surf.actor.enable_texture=True"
   ]
  },
  {
   "cell_type": "code",
   "execution_count": 1,
   "metadata": {
    "collapsed": true
   },
   "outputs": [],
   "source": [
    "from osgeo import gdal\n",
    "from tvtk.api import tvtk\n",
    "from mayavi import mlab\n",
    "import Image"
   ]
  },
  {
   "cell_type": "code",
   "execution_count": 36,
   "metadata": {
    "collapsed": true
   },
   "outputs": [],
   "source": [
    "im1 = Image.open(\"Checkerboard.jpg\")"
   ]
  },
  {
   "cell_type": "code",
   "execution_count": 37,
   "metadata": {
    "collapsed": false
   },
   "outputs": [],
   "source": [
    "im2 = im1.rotate(90)\n",
    "im2.save(\"tmp/Checkerboard.jpg\")"
   ]
  },
  {
   "cell_type": "code",
   "execution_count": 38,
   "metadata": {
    "collapsed": true
   },
   "outputs": [],
   "source": [
    "bmp1 = tvtk.JPEGReader(file_name=\"tmp/Checkerboard.jpg\")"
   ]
  },
  {
   "cell_type": "code",
   "execution_count": 39,
   "metadata": {
    "collapsed": false
   },
   "outputs": [],
   "source": [
    "my_texture=tvtk.Texture()\n",
    "my_texture.interpolate=0"
   ]
  },
  {
   "cell_type": "code",
   "execution_count": 40,
   "metadata": {
    "collapsed": false
   },
   "outputs": [],
   "source": [
    "# my_texture.set_input(0,bmp1.get_output())\n",
    "#tvtk.configure_input(my_texture, bmp1)\n",
    "my_texture=tvtk.Texture(input_connection=bmp1.output_port, interpolate=0)"
   ]
  },
  {
   "cell_type": "code",
   "execution_count": 43,
   "metadata": {
    "collapsed": false
   },
   "outputs": [],
   "source": [
    "surf=mlab.pipeline.surface(mlab.pipeline.open(\"PLY/target.ply\"))"
   ]
  },
  {
   "cell_type": "code",
   "execution_count": null,
   "metadata": {
    "collapsed": true
   },
   "outputs": [],
   "source": [
    "surf.actor.enable_texture = True\n",
    "surf.actor.tcoord_generator_mode = 'plane'\n",
    "surf.actor.actor.texture = my_texture\n",
    "#mlab.show()\n",
    "mlab.show()"
   ]
  },
  {
   "cell_type": "code",
   "execution_count": null,
   "metadata": {
    "collapsed": true
   },
   "outputs": [],
   "source": []
  }
 ],
 "metadata": {
  "anaconda-cloud": {},
  "kernelspec": {
   "display_name": "Python [dato-env]",
   "language": "python",
   "name": "Python [dato-env]"
  },
  "language_info": {
   "codemirror_mode": {
    "name": "ipython",
    "version": 2
   },
   "file_extension": ".py",
   "mimetype": "text/x-python",
   "name": "python",
   "nbconvert_exporter": "python",
   "pygments_lexer": "ipython2",
   "version": "2.7.13"
  },
  "widgets": {
   "state": {},
   "version": "1.1.2"
  }
 },
 "nbformat": 4,
 "nbformat_minor": 2
}
