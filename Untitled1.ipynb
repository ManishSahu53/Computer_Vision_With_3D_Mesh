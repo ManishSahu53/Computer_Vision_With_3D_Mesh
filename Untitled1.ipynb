{
 "cells": [
  {
   "cell_type": "code",
   "execution_count": 3,
   "metadata": {
    "collapsed": false
   },
   "outputs": [
    {
     "name": "stdout",
     "output_type": "stream",
     "text": [
      "time= 324.455445051\n"
     ]
    }
   ],
   "source": [
    "import numpy as np\n",
    "import itertools\n",
    "import time\n",
    "\n",
    "class Polygon:\n",
    "    def __init__(self, n_vertx, n_face, vertx, fcvertx, fcnorm, in_pnt):\n",
    "        self.n_vertx = n_vertx  #number of vertices\n",
    "        self.n_face = n_face  #number of faces(triangles)\n",
    "        self.vertx = vertx  #coordinates of vertices\n",
    "        self.fcvertx = fcvertx  #indices of vertices that form a triangle\n",
    "        self.fcnorm = fcnorm  #norm vectors of faces\n",
    "        self.in_pnt = in_pnt  #an inner point\n",
    "    def detect(self, tst_pnt):\n",
    "        cnt = 0\n",
    "        v_ti = tst_pnt - self.in_pnt\n",
    "        \n",
    "        #avoid test_point == inner_point.\n",
    "        if( np.linalg.norm(v_ti) <= np.finfo(float).eps ):\n",
    "            return True\n",
    "        \n",
    "        #count the intersection points of the test_point-inner_point segment and all the faces of the polygon.\n",
    "        for ind in range(n_face):\n",
    "            p_tri = [vertx[i] for i in fcvertx[ind]]\n",
    "            v_tri = np.array(p_tri)-np.array(p_inner)\n",
    "            f_norm = fcnorm[ind]\n",
    "            \n",
    "            #determine whether the intersection point is on the segment.\n",
    "            t_intrsec = np.inner((p_tri[0]-p_inner),f_norm)/np.inner(v_ti,f_norm)\n",
    "            if( (t_intrsec > 1) | (t_intrsec < 0)):\n",
    "                continue\n",
    "                \n",
    "            #determine whether the intersection point is in the triangle.\n",
    "            prod = [np.inner(v_ti,np.cross(v_tri[j%3],v_tri[(j+1)%3])) for j in range(3)]\n",
    "            if( ((prod[0] <= 0) & (prod[1] <= 0) & (prod[2] <= 0)) | ((prod[0] > 0) & (prod[1] > 0) & (prod[2] > 0)) ):\n",
    "                cnt = cnt + 1 \n",
    "        #print cnt\n",
    "        #iff the number of the intersection points is even, the test_point is an inner point.\n",
    "        if( (cnt%2) == 0 ):\n",
    "            return True\n",
    "        else:\n",
    "            return False\n",
    "\n",
    "#read polygon information from file.\n",
    "with open('PLY/ASR.ply') as f:\n",
    "    content = f.readlines()\n",
    "content = [x.strip() for x in content] \n",
    "n_vertx = int((content[3].split())[2])\n",
    "n_face = int((content[7].split())[2])\n",
    "vertx = []\n",
    "fcvertx = []\n",
    "fcnorm = []\n",
    "for i in range(14,14+n_vertx):\n",
    "    vertx.append([float(j) for j in content[i].split()])\n",
    "for i in range(14+n_vertx,14+n_vertx+n_face):\n",
    "    fcvertx.append(([int(j) for j in content[i].split()])[1:4])\n",
    "for i in range(14+n_vertx+n_face,14+n_face*2+n_vertx):\n",
    "    fcnorm.append([float(j) for j in content[i].split()])\n",
    "\n",
    "#find an inner point(verified).\n",
    "p_tri = [vertx[i] for i in fcvertx[0]]\n",
    "p_inner = np.mean(p_tri,0) - np.array(fcnorm[0])\n",
    "\n",
    "start = time.time()\n",
    "#create a instance of class Polygon\n",
    "model = Polygon(n_vertx, n_face, vertx, fcvertx, fcnorm, p_inner)\n",
    "max_vertx = np.amax(vertx,axis = 0)\n",
    "min_vertx = np.amin(vertx,axis = 0)\n",
    "n_sample = [10,10,5]\n",
    "v_coor = [np.linspace(min_vertx[i],max_vertx[i],num = n_sample[i]) for i in range(3)]\n",
    "mat_coor = [i for i in itertools.product(v_coor[0],v_coor[1],v_coor[2])]\n",
    "\n",
    "mat_inner = []\n",
    "for pnt in mat_coor:\n",
    "    if( model.detect(pnt)):\n",
    "        mat_inner.append(pnt)\n",
    "end = time.time()\n",
    "print \"time=\", end-start"
   ]
  },
  {
   "cell_type": "code",
   "execution_count": null,
   "metadata": {
    "collapsed": true
   },
   "outputs": [],
   "source": []
  }
 ],
 "metadata": {
  "kernelspec": {
   "display_name": "Python 2",
   "language": "python",
   "name": "python2"
  },
  "language_info": {
   "codemirror_mode": {
    "name": "ipython",
    "version": 2
   },
   "file_extension": ".py",
   "mimetype": "text/x-python",
   "name": "python",
   "nbconvert_exporter": "python",
   "pygments_lexer": "ipython2",
   "version": "2.7.12"
  }
 },
 "nbformat": 4,
 "nbformat_minor": 1
}
