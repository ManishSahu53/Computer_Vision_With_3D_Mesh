{
 "cells": [
  {
   "cell_type": "code",
   "execution_count": 62,
   "metadata": {
    "collapsed": false
   },
   "outputs": [
    {
     "name": "stdout",
     "output_type": "stream",
     "text": [
      "time= 69.1781978607\n"
     ]
    }
   ],
   "source": [
    "import numpy as np\n",
    "import itertools\n",
    "import cudamat as cm\n",
    "import time\n",
    "\n",
    "\n",
    "class Polygon:\n",
    "    def __init__(self, n_vertx, n_face, vertx, fcvertx, fcnorm, in_pnt):\n",
    "        self.n_vertx = n_vertx  #number of vertices\n",
    "        self.n_face = n_face  #number of faces(triangles)\n",
    "        self.vertx = vertx  #coordinates of vertices\n",
    "        self.fcvertx = fcvertx  #indices of vertices that form a triangle\n",
    "        self.fcnorm = np.array(fcnorm)  #norm vectors of faces\n",
    "        self.in_pnt = in_pnt  #an inner point\n",
    "        self.p_tri = np.array([[vertx[fcvertx[ind][j]] for j in range(3) ] for ind in range(n_face)])\n",
    "        self.p_tri_slc = self.p_tri[:,0,:]\n",
    "        self.v_tri = self.p_tri-np.array(in_pnt)\n",
    "        prod_flat = np.array(((cm.CUDAMatrix(self.v_tri[:,0,:]).mult(cm.CUDAMatrix(self.fcnorm )) )).asarray())\n",
    "        self.prod1 = np.sum(prod_flat, axis = 1)  #v_tri dot fcnorm\n",
    "        self.prod2 = np.array([[np.cross(self.v_tri[ind][j%3],self.v_tri[ind][(j+1)%3]) for j in range(3)] for ind in range(n_face)])\n",
    "        #print self.prod2.shape\n",
    "        \n",
    "    def detect(self, tst_pnt):\n",
    "        cnt = 0\n",
    "        v_ti = tst_pnt - self.in_pnt\n",
    "        \n",
    "        #avoid test_point == inner_point.\n",
    "        if( np.linalg.norm(v_ti) <= np.finfo(float).eps ):\n",
    "            return True\n",
    "        \n",
    "        #count the intersection points of the test_point-inner_point segment and all the faces of the polygon.\n",
    "        for ind in range(n_face):\n",
    "            #p_tri = [vertx[i] for i in fcvertx[ind]]\n",
    "            #v_tri = np.array(p_tri)-np.array(p_inner)\n",
    "            f_norm = fcnorm[ind]\n",
    "            \n",
    "            #determine whether the intersection point is on the segment.\n",
    "            t_intrsec = self.prod1[ind]/np.inner(v_ti,f_norm)\n",
    "            if( (t_intrsec > 1) | (t_intrsec < 0)):\n",
    "                continue\n",
    "                \n",
    "            #determine whether the intersection point is in the triangle.\n",
    "            prod = [np.inner(v_ti,self.prod2[ind][j]) for j in range(3)]\n",
    "            if( ((prod[0] <= 0) & (prod[1] <= 0) & (prod[2] <= 0)) | ((prod[0] > 0) & (prod[1] > 0) & (prod[2] > 0)) ):\n",
    "                cnt = cnt + 1 \n",
    "        #print cnt\n",
    "        #iff the number of the intersection points is even, the test_point is an inner point.\n",
    "        if( (cnt%2) == 0 ):\n",
    "            return True\n",
    "        else:\n",
    "            return False\n",
    "\n",
    "#read polygon information from file.\n",
    "with open('PLY/ASR.ply') as f:\n",
    "    content = f.readlines()\n",
    "content = [x.strip() for x in content] \n",
    "n_vertx = int((content[3].split())[2])\n",
    "n_face = int((content[7].split())[2])\n",
    "vertx = []\n",
    "fcvertx = []\n",
    "fcnorm = []\n",
    "for i in range(14,14+n_vertx):\n",
    "    vertx.append([float(j) for j in content[i].split()])\n",
    "for i in range(14+n_vertx,14+n_vertx+n_face):\n",
    "    fcvertx.append(([int(j) for j in content[i].split()])[1:4])\n",
    "for i in range(14+n_vertx+n_face,14+n_face*2+n_vertx):\n",
    "    fcnorm.append([float(j) for j in content[i].split()])\n",
    "\n",
    "#find an inner point(verified).\n",
    "p_tri = [vertx[i] for i in fcvertx[0]]\n",
    "p_inner = np.mean(p_tri,0) - np.array(fcnorm[0])\n",
    "\n",
    "start = time.time()\n",
    "#create a instance of class Polygon\n",
    "model = Polygon(n_vertx, n_face, vertx, fcvertx, fcnorm, p_inner)\n",
    "max_vertx = np.amax(vertx,axis = 0)\n",
    "min_vertx = np.amin(vertx,axis = 0)\n",
    "n_sample = [10,10,5]\n",
    "v_coor = [np.linspace(min_vertx[i],max_vertx[i],num = n_sample[i]) for i in range(3)]\n",
    "mat_coor = [i for i in itertools.product(v_coor[0],v_coor[1],v_coor[2])]\n",
    "\n",
    "mat_inner = []\n",
    "for pnt in mat_coor:\n",
    "    if( model.detect(pnt)):\n",
    "        mat_inner.append(pnt)\n",
    "end = time.time()\n",
    "print \"time=\",end-start"
   ]
  },
  {
   "cell_type": "code",
   "execution_count": 21,
   "metadata": {
    "collapsed": false
   },
   "outputs": [
    {
     "name": "stdout",
     "output_type": "stream",
     "text": [
      "[5 6]\n",
      "[2 4 3 5 4 5]\n"
     ]
    }
   ],
   "source": [
    "a = np.array([[2,3],[2,4]])\n",
    "b = np.array([[2,4],[3,5],[4,5]])\n",
    "print np.sum(a,axis = 1)\n",
    "b = b.reshape(-1)\n",
    "print b"
   ]
  },
  {
   "cell_type": "code",
   "execution_count": 42,
   "metadata": {
    "collapsed": false
   },
   "outputs": [
    {
     "data": {
      "text/plain": [
       "0"
      ]
     },
     "execution_count": 42,
     "metadata": {},
     "output_type": "execute_result"
    }
   ],
   "source": [
    "\n",
    "\n",
    "fcvertx[0][0]"
   ]
  },
  {
   "cell_type": "code",
   "execution_count": 20,
   "metadata": {
    "collapsed": true
   },
   "outputs": [],
   "source": [
    "\n"
   ]
  },
  {
   "cell_type": "code",
   "execution_count": 21,
   "metadata": {
    "collapsed": true
   },
   "outputs": [],
   "source": [
    "p_tri = [vertx[i] for i in fcvertx[0]]\n",
    "p_inner = np.mean(p_tri,0) - np.array(fcnorm[0])\n",
    "p_outer = np.mean(p_tri,0) + np.array(fcnorm[0])"
   ]
  },
  {
   "cell_type": "code",
   "execution_count": 22,
   "metadata": {
    "collapsed": true
   },
   "outputs": [],
   "source": [
    "poly = Polygon(n_vertx, n_face, vertx, fcvertx, fcnorm, p_inner)"
   ]
  },
  {
   "cell_type": "code",
   "execution_count": 23,
   "metadata": {
    "collapsed": false
   },
   "outputs": [
    {
     "data": {
      "text/plain": [
       "True"
      ]
     },
     "execution_count": 23,
     "metadata": {},
     "output_type": "execute_result"
    }
   ],
   "source": [
    "poly.detect(p_inner)"
   ]
  },
  {
   "cell_type": "code",
   "execution_count": 19,
   "metadata": {
    "collapsed": false
   },
   "outputs": [
    {
     "ename": "AttributeError",
     "evalue": "'module' object has no attribute 'norm'",
     "output_type": "error",
     "traceback": [
      "\u001b[0;31m---------------------------------------------------------------------------\u001b[0m",
      "\u001b[0;31mAttributeError\u001b[0m                            Traceback (most recent call last)",
      "\u001b[0;32m<ipython-input-19-e09b7a48db29>\u001b[0m in \u001b[0;36m<module>\u001b[0;34m()\u001b[0m\n\u001b[0;32m----> 1\u001b[0;31m \u001b[0mnp\u001b[0m\u001b[0;34m.\u001b[0m\u001b[0mnorm\u001b[0m\u001b[0;34m(\u001b[0m\u001b[0;34m[\u001b[0m\u001b[0;36m1\u001b[0m\u001b[0;34m,\u001b[0m\u001b[0;36m2\u001b[0m\u001b[0;34m]\u001b[0m\u001b[0;34m,\u001b[0m\u001b[0;34m[\u001b[0m\u001b[0;36m1\u001b[0m\u001b[0;34m,\u001b[0m\u001b[0;36m2\u001b[0m\u001b[0;34m]\u001b[0m\u001b[0;34m)\u001b[0m\u001b[0;34m\u001b[0m\u001b[0m\n\u001b[0m",
      "\u001b[0;31mAttributeError\u001b[0m: 'module' object has no attribute 'norm'"
     ]
    }
   ],
   "source": []
  },
  {
   "cell_type": "code",
   "execution_count": 47,
   "metadata": {
    "collapsed": false
   },
   "outputs": [],
   "source": [
    "class AA:\n",
    "    def __init__(self,a,b):\n",
    "        self.a = a\n",
    "        self.b = b\n",
    "        self.c = self.a+self.b\n",
    "    def show(self):\n",
    "        print self.c\n",
    "        \n"
   ]
  },
  {
   "cell_type": "code",
   "execution_count": 48,
   "metadata": {
    "collapsed": false
   },
   "outputs": [
    {
     "name": "stdout",
     "output_type": "stream",
     "text": [
      "3\n"
     ]
    }
   ],
   "source": [
    "aaa = AA(1,2)\n",
    "aaa.show()"
   ]
  },
  {
   "cell_type": "code",
   "execution_count": null,
   "metadata": {
    "collapsed": true
   },
   "outputs": [],
   "source": []
  }
 ],
 "metadata": {
  "kernelspec": {
   "display_name": "Python 2",
   "language": "python",
   "name": "python2"
  },
  "language_info": {
   "codemirror_mode": {
    "name": "ipython",
    "version": 2
   },
   "file_extension": ".py",
   "mimetype": "text/x-python",
   "name": "python",
   "nbconvert_exporter": "python",
   "pygments_lexer": "ipython2",
   "version": "2.7.12"
  }
 },
 "nbformat": 4,
 "nbformat_minor": 1
}
