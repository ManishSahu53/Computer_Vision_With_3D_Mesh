{
 "cells": [
  {
   "cell_type": "code",
   "execution_count": 3,
   "metadata": {
    "collapsed": true
   },
   "outputs": [],
   "source": [
    "import time\n",
    "import math\n",
    "import random\n",
    "import pandas as pd\n",
    "import numpy as np\n",
    "import matplotlib.pyplot as plt\n",
    "import tensorflow as tf\n",
    "import cv2\n",
    "from sklearn.metrics import confusion_matrix\n",
    "from datetime import timedelta\n",
    "from sklearn.utils import shuffle\n",
    "from tensorflow.contrib.layers import flatten"
   ]
  },
  {
   "cell_type": "code",
   "execution_count": 7,
   "metadata": {
    "collapsed": true
   },
   "outputs": [],
   "source": [
    "labels=[]\n",
    "images=[]\n",
    "for i in range(10000):\n",
    "    file_name = \"../data_set/test_images1/anim{}.png\".format(i)\n",
    "    img = cv2.imread(file_name)\n",
    "    images.append(img)\n",
    "    labels.append(1)\n",
    "for i in range(10000):\n",
    "    file_name = \"../data_set/test_images2/anim{}.png\".format(i)\n",
    "    img = cv2.imread(file_name)\n",
    "    images.append(img)\n",
    "    labels.append(2)\n",
    "for i in range(5000):\n",
    "    file_name = \"../data_set/test_images3/anim{}.png\".format(i)\n",
    "    img = cv2.imread(file_name)\n",
    "    images.append(img)\n",
    "    labels.append(3)"
   ]
  },
  {
   "cell_type": "code",
   "execution_count": 15,
   "metadata": {},
   "outputs": [
    {
     "data": {
      "text/plain": [
       "25000"
      ]
     },
     "execution_count": 15,
     "metadata": {},
     "output_type": "execute_result"
    }
   ],
   "source": [
    "%matplotlib inline\n",
    "labels = np.array(labels)\n",
    "len(images)"
   ]
  },
  {
   "cell_type": "code",
   "execution_count": null,
   "metadata": {
    "collapsed": true
   },
   "outputs": [],
   "source": [
    "Train = np.array([])\n",
    "for i in range(len(images)):\n",
    "    Train = np.append(Train,images[i])"
   ]
  },
  {
   "cell_type": "code",
   "execution_count": 1,
   "metadata": {},
   "outputs": [],
   "source": [
    "X_train1,y_train=shuffle(Train,labels)\n",
    "X_train = tf.image.resize_area(X_train1,[25000,96,96,3],True)"
   ]
  },
  {
   "cell_type": "code",
   "execution_count": 19,
   "metadata": {},
   "outputs": [
    {
     "data": {
      "text/plain": [
       "(307, 400, 3)"
      ]
     },
     "execution_count": 19,
     "metadata": {},
     "output_type": "execute_result"
    }
   ],
   "source": [
    "X_train[0].shape"
   ]
  },
  {
   "cell_type": "code",
   "execution_count": 8,
   "metadata": {},
   "outputs": [],
   "source": [
    "mean_u=0\n",
    "sigma=0.1\n",
    "learning_rate = 0.001\n",
    "batch_size = 2000\n",
    "training_epochs = 30\n",
    "dropout=0.80\n",
    "\n",
    "#save_file = 'model_new.ckpt'\n",
    "from tensorflow.contrib.layers import flatten\n",
    "def NeuralNet(x):    \n",
    "    mu = 0\n",
    "    sigma = 0.1\n",
    "    # Layer 1: Convolutional. Input = 96x96x3. Output = 92x92x28x6.\n",
    "    newconv1_W = tf.Variable(tf.truncated_normal(shape=(5, 5, 3, 6), mean = mu, stddev = sigma))\n",
    "    newconv1_b = tf.Variable(tf.zeros(6))\n",
    "    newconv1   = tf.nn.conv2d(x, newconv1_W, strides=[1, 1, 1, 1], padding='VALID') + newconv1_b\n",
    "\n",
    "    # Activation.\n",
    "    newconv1 = tf.nn.relu(newconv1)\n",
    "    # Input = 92x92x6. Output = 80x80x12.\n",
    "    newconv2_W=tf.Variable(tf.truncated_normal(shape=(13,13,6,12),mean=mu,stddev=sigma))\n",
    "    newconv2_b=tf.Variable(tf.zeros(12))\n",
    "    newconv2=tf.nn.conv2d(newconv1,newconv2_W,strides=[1,1,1,1],padding='VALID')+newconv2_b    \n",
    "    # Pooling. Input = 80x80x12. Output = 40x40x12.\n",
    "    newconv2 = tf.nn.max_pool(newconv2, ksize=[1, 2, 2, 1], strides=[1, 2, 2, 1], padding='VALID')\n",
    "    \n",
    "    # layer 2 : input 40x40x12, and output 36x36x16\n",
    "    newconv3_W = tf.Variable(tf.truncated_normal(shape=(5, 5, 12, 16), mean = mu, stddev = sigma))\n",
    "    newconv3_b = tf.Variable(tf.zeros(16))\n",
    "    newconv3   = tf.nn.conv2d(newconv2, newconv3_W, strides=[1, 1, 1, 1], padding='VALID') + newconv3_b\n",
    "    \n",
    "    newconv3 = tf.nn.relu(newconv1)\n",
    "    # Pooling. Input = 36x36x16. Output = 18x18x16.\n",
    "    newconv3 = tf.nn.max_pool(newconv3, ksize=[1, 2, 2, 1], strides=[1, 2, 2, 1], padding='VALID')\n",
    "\n",
    "    # Layer 4: Convolutional. Output = 14x14x18.\n",
    "    newconv4_W = tf.Variable(tf.truncated_normal(shape=(5, 5, 16, 18), mean = mu, stddev = sigma))\n",
    "    newconv4_b = tf.Variable(tf.zeros(18))\n",
    "    newconv4   = tf.nn.conv2d(newconv3, newconv4_W, strides=[1, 1, 1, 1], padding='VALID') + newconv4_b\n",
    "    \n",
    "    # Activation.\n",
    "    newconv4 = tf.nn.relu(newconv4)\n",
    "\n",
    "    # Pooling. Input = 14x14x18. Output = 7x7x18.\n",
    "    newconv4 = tf.nn.max_pool(newconv4, ksize=[1, 2, 2, 1], strides=[1, 2, 2, 1], padding='VALID')\n",
    "\n",
    "    # Flatten. Input = 7x7x18. Output = 882.\n",
    "    newfc0 = flatten(newconv)\n",
    "    newfc0 = tf.nn.dropout(newfc0,dropout)\n",
    "    \n",
    "    # Layer 3: Fully Connected. Input = 882. Output = 400.\n",
    "    newfc1_W = tf.Variable(tf.truncated_normal(shape=(882, 400), mean = mu, stddev = sigma))\n",
    "    newfc1_b = tf.Variable(tf.zeros(120))\n",
    "    newfc1   = tf.matmul(newfc0, newfc1_W) + newfc1_b\n",
    "    \n",
    "    # Activation.\n",
    "    newfc1    = tf.nn.relu(newfc1)\n",
    "    #add dropout\n",
    "    newfc1=tf.nn.dropout(newfc1,dropout)\n",
    "\n",
    "    # Layer 4: Fully Connected. Input = 400. Output = 84.\n",
    "    newfc2_W  = tf.Variable(tf.truncated_normal(shape=(400, 84), mean = mu, stddev = sigma))\n",
    "    newfc2_b  = tf.Variable(tf.zeros(84))\n",
    "    newfc2    = tf.matmul(newfc1, newfc2_W) + newfc2_b\n",
    "    \n",
    "    # Activation.\n",
    "    newfc2    = tf.nn.relu(newfc2)\n",
    "    #add dropout \n",
    "    newfc2 = tf.nn.dropout(newfc2, dropout)\n",
    "    \n",
    "    \n",
    "    # Layer 5: Fully Connected. Input = 84. Output = 43.\n",
    "    newfc3_W  = tf.Variable(tf.truncated_normal(shape=(84, 8), mean = mu, stddev = sigma))\n",
    "    newfc3_b  = tf.Variable(tf.zeros(8))\n",
    "    logits = tf.matmul(newfc2, newfc3_W) + newfc3_b\n",
    "    \n",
    "    return logits"
   ]
  },
  {
   "cell_type": "code",
   "execution_count": 10,
   "metadata": {},
   "outputs": [],
   "source": [
    "construct functions for the neural nets\n",
    "x=tf.placeholder(tf.float32,(None,96,96,3))\n",
    "y=tf.placeholder(tf.int32,(None))\n",
    "one_hot_y=tf.one_hot(y,8)\n",
    "logits=NeuralNet(x)\n",
    "cross_entropy=tf.nn.softmax_cross_entropy_with_logits(logits,one_hot_y)\n",
    "loss_operation=tf.reduce_mean(cross_entropy)\n",
    "optimizer=tf.train.AdamOptimizer(learning_rate=learning_rate)\n",
    "training_operation=optimizer.minimize(loss_operation)"
   ]
  },
  {
   "cell_type": "code",
   "execution_count": 11,
   "metadata": {
    "collapsed": true
   },
   "outputs": [],
   "source": [
    "cross_prediction=tf.equal(tf.argmax(logits,1),tf.argmax(one_hot_y,1))\n",
    "accuracy_operation=tf.reduce_mean(tf.cast(cross_prediction,tf.float32))\n",
    "\n",
    "def evaluation(X_data,y_data):\n",
    "    num_examples=len(X_data)\n",
    "    total_accuracy=0\n",
    "    sess=tf.get_default_session()\n",
    "    for offset in range(0,num_examples,batch_size):\n",
    "        batch_x,batch_y=X_data[offset:offset+batch_size],y_data[offset:offset+batch_size]\n",
    "        accuracy=sess.run(accuracy_operation,feed_dict={x:batch_x,y:batch_y})\n",
    "        total_accuracy+=(accuracy*len(batch_x))\n",
    "    return total_accuracy/num_examples"
   ]
  },
  {
   "cell_type": "code",
   "execution_count": 12,
   "metadata": {
    "collapsed": true
   },
   "outputs": [],
   "source": [
    "training_data,validation_data,training_label,validation_label=train_test_split(X_train,y_train,test_size=0.2)\n",
    "\n",
    "\n",
    "with tf.Session() as sess:\n",
    "    sess.run(tf.global_variables_initializer())\n",
    "    num_examples=len(training_data)\n",
    "    print(\"we are training our model\")\n",
    "    print()\n",
    "    for i in range(training_epochs):\n",
    "        X_train1,y_train1=shuffle(training_data,training_label)\n",
    "        for offset in range(0,num_examples,batch_size):\n",
    "            end=offset+batch_size\n",
    "            batch_x,batch_y=X_train[offset:end],y_train[offset:end]\n",
    "            sess.run(training_operation,feed_dict={x:batch_x,y:batch_y})\n",
    "        v_accuracy=evaluation(validation_data,validation_label)\n",
    "        print(\"epoch{}:\".format(i+1))\n",
    "        print(\"the validation accuracy:{:.3f}\".format(v_accuracy))\n",
    "        print()\n",
    "    cross=tf.equal(tf.argmax(logits,1),tf.argmax(one_hot_y,1))\n",
    "    accuracy=tf.reduce_mean(tf.cast(cross_prediction,tf.float32))   \n",
    "    print(\"the test accuracy after using regularization is:\",accuracy.eval({x:X_test,y:y_test}))\n",
    "    #saver.save(sess, save_file)\n",
    "\n"
   ]
  },
  {
   "cell_type": "code",
   "execution_count": null,
   "metadata": {
    "collapsed": true
   },
   "outputs": [],
   "source": []
  }
 ],
 "metadata": {
  "kernelspec": {
   "display_name": "Python 3",
   "language": "python",
   "name": "python3"
  },
  "language_info": {
   "codemirror_mode": {
    "name": "ipython",
    "version": 3
   },
   "file_extension": ".py",
   "mimetype": "text/x-python",
   "name": "python",
   "nbconvert_exporter": "python",
   "pygments_lexer": "ipython3",
   "version": "3.5.2"
  },
  "widgets": {
   "state": {},
   "version": "1.1.2"
  }
 },
 "nbformat": 4,
 "nbformat_minor": 1
}
